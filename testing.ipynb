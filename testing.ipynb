{
 "cells": [
  {
   "cell_type": "code",
   "execution_count": 13,
   "metadata": {
    "collapsed": false
   },
   "outputs": [],
   "source": [
    "import speech_recognition as sr\n",
    "from gtts import gTTS\n",
    "import os\n",
    "import nltk\n",
    "from nltk import word_tokenize\n",
    "from nltk.corpus import stopwords"
   ]
  },
  {
   "cell_type": "code",
   "execution_count": 14,
   "metadata": {
    "collapsed": true
   },
   "outputs": [],
   "source": [
    "def speak(audioString):\n",
    "    print(audioString)\n",
    "    tts = gTTS(text=audioString, lang='en')\n",
    "    tts.save(\"audio.mp3\")\n",
    "    os.system(\"mpg321 audio.mp3\")"
   ]
  },
  {
   "cell_type": "code",
   "execution_count": 15,
   "metadata": {
    "collapsed": true
   },
   "outputs": [],
   "source": [
    "def stt():\n",
    "    recognizer = sr.Recognizer()\n",
    "    with sr.Microphone() as source:\n",
    "        recognizer.adjust_for_ambient_noise(source)\n",
    "        command = recognizer.record(source, duration=3)\n",
    "    msg = ''\n",
    "    try:\n",
    "        msg = recognizer.recognize_google(command)\n",
    "        print(msg)\n",
    "    except sr.UnknownValueError:\n",
    "        return msg\n",
    "    except sr.RequestError:\n",
    "        print(\"RequestError : Check connection.\")\n",
    "    return msg"
   ]
  },
  {
   "cell_type": "code",
   "execution_count": 16,
   "metadata": {
    "collapsed": false
   },
   "outputs": [],
   "source": [
    "def postag(userCommand):\n",
    "    tokens = word_tokenize(userCommand)\n",
    "    refinedTokens = [w for w in tokens if not w in stop_words]\n",
    "    tagTokens = nltk.pos_tag(refinedTokens)\n",
    "    return tagTokens"
   ]
  },
  {
   "cell_type": "code",
   "execution_count": 5,
   "metadata": {
    "collapsed": false
   },
   "outputs": [],
   "source": [
    "stop_words = set(stopwords.words('english'))\n",
    "stop_words.remove('you')\n",
    "stop_words.remove('yours')\n",
    "stop_words.remove('your')\n",
    "stop_words.remove('what')"
   ]
  },
  {
   "cell_type": "code",
   "execution_count": 9,
   "metadata": {
    "collapsed": false
   },
   "outputs": [
    {
     "name": "stdout",
     "output_type": "stream",
     "text": [
      "Hello Sir. How can I help you?\n",
      "what is data mining\n",
      "[('what', 'WP'), ('data', 'NN'), ('mining', 'NN')]\n"
     ]
    }
   ],
   "source": [
    "speak(\"Hello Sir. How can I help you?\")\n",
    "command = stt()\n",
    "tags = postag(command)\n",
    "print(tags)"
   ]
  },
  {
   "cell_type": "code",
   "execution_count": 10,
   "metadata": {
    "collapsed": false
   },
   "outputs": [
    {
     "name": "stdout",
     "output_type": "stream",
     "text": [
      "['Data mining is the computing process of discovering patterns in large data sets involving methods at the intersection of machine learning, statistics, and database systems', ' An essential process where intelligent methods are applied to extract data patterns']\n",
      "Data mining is the computing process of discovering patterns in large data sets involving methods at the intersection of machine learning, statistics, and database systems\n",
      " An essential process where intelligent methods are applied to extract data patterns\n"
     ]
    }
   ],
   "source": [
    "if ('what', 'WP') in tags:\n",
    "    getInfo(command)"
   ]
  },
  {
   "cell_type": "code",
   "execution_count": 11,
   "metadata": {
    "collapsed": true
   },
   "outputs": [],
   "source": [
    "import wikipedia\n",
    "def getInfo(command):\n",
    "    data = wikipedia.summary(command)\n",
    "    data= data.split(\".\",2)[0:2]\n",
    "    print(data)\n",
    "    for i in data:\n",
    "        speak(i)"
   ]
  },
  {
   "cell_type": "code",
   "execution_count": null,
   "metadata": {
    "collapsed": true
   },
   "outputs": [],
   "source": []
  }
 ],
 "metadata": {
  "kernelspec": {
   "display_name": "Python 3",
   "language": "python",
   "name": "python3"
  },
  "language_info": {
   "codemirror_mode": {
    "name": "ipython",
    "version": 3
   },
   "file_extension": ".py",
   "mimetype": "text/x-python",
   "name": "python",
   "nbconvert_exporter": "python",
   "pygments_lexer": "ipython3",
   "version": "3.6.0"
  }
 },
 "nbformat": 4,
 "nbformat_minor": 2
}
